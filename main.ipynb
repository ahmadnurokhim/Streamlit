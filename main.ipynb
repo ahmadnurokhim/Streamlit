{
 "cells": [
  {
   "cell_type": "code",
   "execution_count": 1,
   "metadata": {},
   "outputs": [
    {
     "name": "stdout",
     "output_type": "stream",
     "text": [
      "<class 'pandas.core.frame.DataFrame'>\n",
      "RangeIndex: 9994 entries, 0 to 9993\n",
      "Data columns (total 21 columns):\n",
      " #   Column         Non-Null Count  Dtype  \n",
      "---  ------         --------------  -----  \n",
      " 0   row_id         9994 non-null   int64  \n",
      " 1   order_id       9994 non-null   object \n",
      " 2   order_date     9994 non-null   object \n",
      " 3   ship_date      9994 non-null   object \n",
      " 4   ship_mode      9994 non-null   object \n",
      " 5   customer_id    9994 non-null   object \n",
      " 6   customer_name  9994 non-null   object \n",
      " 7   segment        9994 non-null   object \n",
      " 8   country        9994 non-null   object \n",
      " 9   city           9994 non-null   object \n",
      " 10  state          9994 non-null   object \n",
      " 11  postal_code    9994 non-null   int64  \n",
      " 12  region         9994 non-null   object \n",
      " 13  product_id     9994 non-null   object \n",
      " 14  category       9994 non-null   object \n",
      " 15  subcategory    9994 non-null   object \n",
      " 16  product_name   9994 non-null   object \n",
      " 17  sales          9994 non-null   float64\n",
      " 18  quantity       9994 non-null   int64  \n",
      " 19  discount       9994 non-null   float64\n",
      " 20  profit         9994 non-null   float64\n",
      "dtypes: float64(3), int64(3), object(15)\n",
      "memory usage: 1.6+ MB\n"
     ]
    }
   ],
   "source": [
    "import pandas as pd\n",
    "\n",
    "df = pd.read_csv(\"superstore - orders.csv\")\n",
    "df.info()"
   ]
  },
  {
   "cell_type": "code",
   "execution_count": 20,
   "metadata": {},
   "outputs": [
    {
     "data": {
      "text/plain": [
       "array(['South', 'West', 'Central', 'East'], dtype=object)"
      ]
     },
     "execution_count": 20,
     "metadata": {},
     "output_type": "execute_result"
    }
   ],
   "source": [
    "df['region'].unique()"
   ]
  },
  {
   "cell_type": "code",
   "execution_count": 2,
   "metadata": {},
   "outputs": [
    {
     "name": "stdout",
     "output_type": "stream",
     "text": [
      "<class 'pandas.core.frame.DataFrame'>\n",
      "RangeIndex: 9994 entries, 0 to 9993\n",
      "Data columns (total 21 columns):\n",
      " #   Column         Non-Null Count  Dtype         \n",
      "---  ------         --------------  -----         \n",
      " 0   row_id         9994 non-null   int64         \n",
      " 1   order_id       9994 non-null   object        \n",
      " 2   order_date     9994 non-null   datetime64[ns]\n",
      " 3   ship_date      9994 non-null   datetime64[ns]\n",
      " 4   ship_mode      9994 non-null   object        \n",
      " 5   customer_id    9994 non-null   object        \n",
      " 6   customer_name  9994 non-null   object        \n",
      " 7   segment        9994 non-null   object        \n",
      " 8   country        9994 non-null   object        \n",
      " 9   city           9994 non-null   object        \n",
      " 10  state          9994 non-null   object        \n",
      " 11  postal_code    9994 non-null   int64         \n",
      " 12  region         9994 non-null   object        \n",
      " 13  product_id     9994 non-null   object        \n",
      " 14  category       9994 non-null   object        \n",
      " 15  subcategory    9994 non-null   object        \n",
      " 16  product_name   9994 non-null   object        \n",
      " 17  sales          9994 non-null   float64       \n",
      " 18  quantity       9994 non-null   int64         \n",
      " 19  discount       9994 non-null   float64       \n",
      " 20  profit         9994 non-null   float64       \n",
      "dtypes: datetime64[ns](2), float64(3), int64(3), object(13)\n",
      "memory usage: 1.6+ MB\n"
     ]
    }
   ],
   "source": [
    "df['order_date'] = pd.to_datetime(df['order_date'])\n",
    "df['ship_date'] = pd.to_datetime(df['ship_date'])\n",
    "df.info()"
   ]
  },
  {
   "cell_type": "code",
   "execution_count": 17,
   "metadata": {},
   "outputs": [],
   "source": [
    "CURR_YEAR = df['order_date'].dt.year\n",
    "df['order_year'] = df['order_date'].dt.year"
   ]
  },
  {
   "cell_type": "code",
   "execution_count": 15,
   "metadata": {},
   "outputs": [
    {
     "data": {
      "text/plain": [
       "733215.2552"
      ]
     },
     "execution_count": 15,
     "metadata": {},
     "output_type": "execute_result"
    }
   ],
   "source": [
    "df17 = df[df['order_date'].dt.year==2017][['sales']].sum()\n",
    "df17[0]"
   ]
  },
  {
   "cell_type": "code",
   "execution_count": 18,
   "metadata": {},
   "outputs": [
    {
     "data": {
      "text/html": [
       "<div>\n",
       "<style scoped>\n",
       "    .dataframe tbody tr th:only-of-type {\n",
       "        vertical-align: middle;\n",
       "    }\n",
       "\n",
       "    .dataframe tbody tr th {\n",
       "        vertical-align: top;\n",
       "    }\n",
       "\n",
       "    .dataframe thead th {\n",
       "        text-align: right;\n",
       "    }\n",
       "</style>\n",
       "<table border=\"1\" class=\"dataframe\">\n",
       "  <thead>\n",
       "    <tr style=\"text-align: right;\">\n",
       "      <th></th>\n",
       "      <th>order_year</th>\n",
       "      <th>customer_id</th>\n",
       "      <th>order_id</th>\n",
       "      <th>sales</th>\n",
       "    </tr>\n",
       "  </thead>\n",
       "  <tbody>\n",
       "    <tr>\n",
       "      <th>0</th>\n",
       "      <td>2014</td>\n",
       "      <td>595</td>\n",
       "      <td>969</td>\n",
       "      <td>484247.4981</td>\n",
       "    </tr>\n",
       "    <tr>\n",
       "      <th>1</th>\n",
       "      <td>2015</td>\n",
       "      <td>573</td>\n",
       "      <td>1038</td>\n",
       "      <td>470532.5090</td>\n",
       "    </tr>\n",
       "    <tr>\n",
       "      <th>2</th>\n",
       "      <td>2016</td>\n",
       "      <td>638</td>\n",
       "      <td>1315</td>\n",
       "      <td>609205.5980</td>\n",
       "    </tr>\n",
       "    <tr>\n",
       "      <th>3</th>\n",
       "      <td>2017</td>\n",
       "      <td>693</td>\n",
       "      <td>1687</td>\n",
       "      <td>733215.2552</td>\n",
       "    </tr>\n",
       "  </tbody>\n",
       "</table>\n",
       "</div>"
      ],
      "text/plain": [
       "   order_year  customer_id  order_id        sales\n",
       "0        2014          595       969  484247.4981\n",
       "1        2015          573      1038  470532.5090\n",
       "2        2016          638      1315  609205.5980\n",
       "3        2017          693      1687  733215.2552"
      ]
     },
     "execution_count": 18,
     "metadata": {},
     "output_type": "execute_result"
    }
   ],
   "source": [
    "data = pd.pivot_table(\n",
    "    data=df[df['order_date'].dt.year==CURR_YEAR],\n",
    "    index='order_year',\n",
    "    aggfunc={\n",
    "        'sales': 'sum',\n",
    "        'order_id': pd.Series.nunique,\n",
    "        'customer_id': pd.Series.nunique\n",
    "    }\n",
    ").reset_index()\n",
    "\n",
    "data"
   ]
  }
 ],
 "metadata": {
  "kernelspec": {
   "display_name": "Python 3",
   "language": "python",
   "name": "python3"
  },
  "language_info": {
   "codemirror_mode": {
    "name": "ipython",
    "version": 3
   },
   "file_extension": ".py",
   "mimetype": "text/x-python",
   "name": "python",
   "nbconvert_exporter": "python",
   "pygments_lexer": "ipython3",
   "version": "3.8.10"
  },
  "orig_nbformat": 4
 },
 "nbformat": 4,
 "nbformat_minor": 2
}
